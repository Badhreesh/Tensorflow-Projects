{
 "cells": [
  {
   "cell_type": "markdown",
   "metadata": {},
   "source": [
    "# Implementing a CNN for MNIST Dataset Using Keras"
   ]
  },
  {
   "cell_type": "code",
   "execution_count": 14,
   "metadata": {},
   "outputs": [],
   "source": [
    "import keras\n",
    "from tensorflow.examples.tutorials.mnist import input_data\n",
    "import numpy as np\n",
    "import random\n",
    "import matplotlib.pyplot as plt\n",
    "%matplotlib inline"
   ]
  },
  {
   "cell_type": "code",
   "execution_count": 15,
   "metadata": {},
   "outputs": [
    {
     "name": "stdout",
     "output_type": "stream",
     "text": [
      "Extracting MNIST_dataset\\train-images-idx3-ubyte.gz\n",
      "Extracting MNIST_dataset\\train-labels-idx1-ubyte.gz\n",
      "Extracting MNIST_dataset\\t10k-images-idx3-ubyte.gz\n",
      "Extracting MNIST_dataset\\t10k-labels-idx1-ubyte.gz\n"
     ]
    }
   ],
   "source": [
    "mnist_data = input_data.read_data_sets(\"MNIST_dataset\", one_hot = True)"
   ]
  },
  {
   "cell_type": "markdown",
   "metadata": {},
   "source": [
    "The mnist variable created above contains both the images and their labels. Isolate the images for now. There will be 55,000 images and each will be of size 28 x 28."
   ]
  },
  {
   "cell_type": "code",
   "execution_count": 17,
   "metadata": {},
   "outputs": [
    {
     "data": {
      "text/plain": [
       "(55000, 784)"
      ]
     },
     "execution_count": 17,
     "metadata": {},
     "output_type": "execute_result"
    }
   ],
   "source": [
    "x_train = mnist_data.train.images[:55000,:]\n",
    "x_train.shape"
   ]
  },
  {
   "cell_type": "markdown",
   "metadata": {},
   "source": [
    "Let's look at what a random image might look like."
   ]
  },
  {
   "cell_type": "code",
   "execution_count": 20,
   "metadata": {},
   "outputs": [
    {
     "data": {
      "image/png": "[encoded data removed]",
      "text/plain": [
       "<matplotlib.figure.Figure at 0x909080fda0>"
      ]
     },
     "metadata": {},
     "output_type": "display_data"
    }
   ],
   "source": [
    "randumNum = random.randint(0,55000)\n",
    "image = x_train[randumNum].reshape([28,28])\n",
    "plt.imshow(image, cmap=plt.get_cmap('gray_r'))\n",
    "plt.show()"
   ]
  },
  {
   "cell_type": "code",
   "execution_count": 21,
   "metadata": {},
   "outputs": [],
   "source": [
    "from keras.layers import Dense, Conv2D, MaxPool2D, Flatten, BatchNormalization\n",
    "from keras.models import Sequential"
   ]
  },
  {
   "cell_type": "code",
   "execution_count": 22,
   "metadata": {},
   "outputs": [],
   "source": [
    "model = Sequential()\n",
    "model.add(Conv2D(32, 3, activation='relu', input_shape=[28, 28, 1]))\n",
    "model.add(MaxPool2D())\n",
    "model.add(BatchNormalization())\n",
    "model.add(Conv2D(64, 3, activation='relu'))\n",
    "model.add(MaxPool2D())\n",
    "model.add(BatchNormalization())\n",
    "model.add(Conv2D(128, 3, activation='relu'))\n",
    "model.add(MaxPool2D())\n",
    "model.add(BatchNormalization())\n",
    "model.add(Flatten())\n",
    "model.add(Dense(256, activation='relu'))\n",
    "model.add(Dense(10, activation='softmax'))"
   ]
  },
  {
   "cell_type": "code",
   "execution_count": 23,
   "metadata": {},
   "outputs": [
    {
     "name": "stdout",
     "output_type": "stream",
     "text": [
      "_________________________________________________________________\n",
      "Layer (type)                 Output Shape              Param #   \n",
      "=================================================================\n",
      "conv2d_1 (Conv2D)            (None, 26, 26, 32)        320       \n",
      "_________________________________________________________________\n",
      "max_pooling2d_1 (MaxPooling2 (None, 13, 13, 32)        0         \n",
      "_________________________________________________________________\n",
      "batch_normalization_1 (Batch (None, 13, 13, 32)        128       \n",
      "_________________________________________________________________\n",
      "conv2d_2 (Conv2D)            (None, 11, 11, 64)        18496     \n",
      "_________________________________________________________________\n",
      "max_pooling2d_2 (MaxPooling2 (None, 5, 5, 64)          0         \n",
      "_________________________________________________________________\n",
      "batch_normalization_2 (Batch (None, 5, 5, 64)          256       \n",
      "_________________________________________________________________\n",
      "conv2d_3 (Conv2D)            (None, 3, 3, 128)         73856     \n",
      "_________________________________________________________________\n",
      "max_pooling2d_3 (MaxPooling2 (None, 1, 1, 128)         0         \n",
      "_________________________________________________________________\n",
      "batch_normalization_3 (Batch (None, 1, 1, 128)         512       \n",
      "_________________________________________________________________\n",
      "flatten_1 (Flatten)          (None, 128)               0         \n",
      "_________________________________________________________________\n",
      "dense_1 (Dense)              (None, 256)               33024     \n",
      "_________________________________________________________________\n",
      "dense_2 (Dense)              (None, 10)                2570      \n",
      "=================================================================\n",
      "Total params: 129,162\n",
      "Trainable params: 128,714\n",
      "Non-trainable params: 448\n",
      "_________________________________________________________________\n"
     ]
    }
   ],
   "source": [
    "model.summary()"
   ]
  },
  {
   "cell_type": "code",
   "execution_count": 24,
   "metadata": {},
   "outputs": [],
   "source": [
    "model.compile(optimizer='adam', loss='categorical_crossentropy', metrics=['accuracy'])"
   ]
  },
  {
   "cell_type": "code",
   "execution_count": 26,
   "metadata": {},
   "outputs": [
    {
     "name": "stdout",
     "output_type": "stream",
     "text": [
      "Train on 55000 samples, validate on 10000 samples\n",
      "Epoch 1/20\n",
      "55000/55000 [==============================] - 65s 1ms/step - loss: 0.1198 - acc: 0.9635 - val_loss: 0.0575 - val_acc: 0.9837\n",
      "Epoch 2/20\n",
      "55000/55000 [==============================] - 48s 880us/step - loss: 0.0490 - acc: 0.9844 - val_loss: 0.0900 - val_acc: 0.9750\n",
      "Epoch 3/20\n",
      "55000/55000 [==============================] - 46s 829us/step - loss: 0.0376 - acc: 0.9877 - val_loss: 0.0590 - val_acc: 0.9816\n",
      "Epoch 4/20\n",
      "55000/55000 [==============================] - 47s 846us/step - loss: 0.0277 - acc: 0.9910 - val_loss: 0.0462 - val_acc: 0.9877\n",
      "Epoch 5/20\n",
      "55000/55000 [==============================] - 46s 841us/step - loss: 0.0220 - acc: 0.9930 - val_loss: 0.0641 - val_acc: 0.9819\n",
      "Epoch 6/20\n",
      "55000/55000 [==============================] - 46s 833us/step - loss: 0.0220 - acc: 0.9925 - val_loss: 0.0495 - val_acc: 0.9859\n",
      "Epoch 7/20\n",
      "55000/55000 [==============================] - 46s 834us/step - loss: 0.0179 - acc: 0.9943 - val_loss: 0.0557 - val_acc: 0.9853\n",
      "Epoch 8/20\n",
      "55000/55000 [==============================] - 46s 837us/step - loss: 0.0162 - acc: 0.9947 - val_loss: 0.0359 - val_acc: 0.9901\n",
      "Epoch 9/20\n",
      "55000/55000 [==============================] - 47s 849us/step - loss: 0.0117 - acc: 0.9962 - val_loss: 0.0480 - val_acc: 0.9887\n",
      "Epoch 10/20\n",
      "55000/55000 [==============================] - 46s 845us/step - loss: 0.0147 - acc: 0.9952 - val_loss: 0.0523 - val_acc: 0.9872\n",
      "Epoch 11/20\n",
      "55000/55000 [==============================] - 46s 836us/step - loss: 0.0115 - acc: 0.9959 - val_loss: 0.0478 - val_acc: 0.9888\n",
      "Epoch 12/20\n",
      "55000/55000 [==============================] - 46s 828us/step - loss: 0.0119 - acc: 0.9961 - val_loss: 0.0496 - val_acc: 0.9892\n",
      "Epoch 13/20\n",
      "55000/55000 [==============================] - 45s 812us/step - loss: 0.0076 - acc: 0.9976 - val_loss: 0.0476 - val_acc: 0.9900\n",
      "Epoch 14/20\n",
      "55000/55000 [==============================] - 47s 856us/step - loss: 0.0101 - acc: 0.9965 - val_loss: 0.0645 - val_acc: 0.9869\n",
      "Epoch 15/20\n",
      "55000/55000 [==============================] - 47s 855us/step - loss: 0.0072 - acc: 0.9973 - val_loss: 0.0694 - val_acc: 0.9869\n",
      "Epoch 16/20\n",
      "55000/55000 [==============================] - 46s 841us/step - loss: 0.0083 - acc: 0.9973 - val_loss: 0.0531 - val_acc: 0.9897\n",
      "Epoch 17/20\n",
      "55000/55000 [==============================] - 46s 832us/step - loss: 0.0083 - acc: 0.9974 - val_loss: 0.0604 - val_acc: 0.9886\n",
      "Epoch 18/20\n",
      "55000/55000 [==============================] - 46s 845us/step - loss: 0.0088 - acc: 0.9972 - val_loss: 0.0652 - val_acc: 0.9867\n",
      "Epoch 19/20\n",
      "55000/55000 [==============================] - 46s 832us/step - loss: 0.0062 - acc: 0.9980 - val_loss: 0.0594 - val_acc: 0.9886\n",
      "Epoch 20/20\n",
      "55000/55000 [==============================] - 48s 879us/step - loss: 0.0070 - acc: 0.9979 - val_loss: 0.0830 - val_acc: 0.9839\n"
     ]
    },
    {
     "data": {
      "text/plain": [
       "<keras.callbacks.History at 0x909347fb70>"
      ]
     },
     "execution_count": 26,
     "metadata": {},
     "output_type": "execute_result"
    }
   ],
   "source": [
    "epochs = 20\n",
    "train = mnist_data.train.images\n",
    "train_images = np.reshape(train, (-1, 28, 28, 1))\n",
    "test = mnist_data.test.images\n",
    "test_images = np.reshape(test, (-1, 28, 28, 1))\n",
    "model.fit(train_images, mnist_data.train.labels,\n",
    "         validation_data=(test_images, mnist_data.test.labels),\n",
    "         epochs=epochs, batch_size=64, verbose=1)"
   ]
  }
 ],
 "metadata": {
  "kernelspec": {
   "display_name": "Python 3",
   "language": "python",
   "name": "python3"
  },
  "language_info": {
   "codemirror_mode": {
    "name": "ipython",
    "version": 3
   },
   "file_extension": ".py",
   "mimetype": "text/x-python",
   "name": "python",
   "nbconvert_exporter": "python",
   "pygments_lexer": "ipython3",
   "version": "3.6.3"
  }
 },
 "nbformat": 4,
 "nbformat_minor": 2
}
